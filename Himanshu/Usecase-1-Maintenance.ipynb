{
 "cells": [
  {
   "cell_type": "code",
   "execution_count": 1,
   "metadata": {},
   "outputs": [
    {
     "name": "stderr",
     "output_type": "stream",
     "text": [
      "C:\\Users\\Himanshu\\anaconda3\\lib\\importlib\\_bootstrap.py:219: RuntimeWarning: numpy.ufunc size changed, may indicate binary incompatibility. Expected 192 from C header, got 216 from PyObject\n",
      "  return f(*args, **kwds)\n",
      "C:\\Users\\Himanshu\\anaconda3\\lib\\importlib\\_bootstrap.py:219: RuntimeWarning: numpy.ufunc size changed, may indicate binary incompatibility. Expected 192 from C header, got 216 from PyObject\n",
      "  return f(*args, **kwds)\n",
      "C:\\Users\\Himanshu\\anaconda3\\lib\\importlib\\_bootstrap.py:219: RuntimeWarning: numpy.ufunc size changed, may indicate binary incompatibility. Expected 192 from C header, got 216 from PyObject\n",
      "  return f(*args, **kwds)\n",
      "C:\\Users\\Himanshu\\anaconda3\\lib\\importlib\\_bootstrap.py:219: RuntimeWarning: numpy.ufunc size changed, may indicate binary incompatibility. Expected 192 from C header, got 216 from PyObject\n",
      "  return f(*args, **kwds)\n",
      "C:\\Users\\Himanshu\\anaconda3\\lib\\importlib\\_bootstrap.py:219: RuntimeWarning: numpy.ufunc size changed, may indicate binary incompatibility. Expected 192 from C header, got 216 from PyObject\n",
      "  return f(*args, **kwds)\n"
     ]
    }
   ],
   "source": [
    "import numpy as np\n",
    "import pandas as pd\n",
    "import seaborn as sns\n",
    "import matplotlib.pyplot as plt"
   ]
  },
  {
   "cell_type": "code",
   "execution_count": 4,
   "metadata": {},
   "outputs": [],
   "source": [
    "df = pd.read_excel('Use case-1-Water tank and pump surveillance - Himanshu Raul.xlsx')"
   ]
  },
  {
   "cell_type": "code",
   "execution_count": 5,
   "metadata": {},
   "outputs": [
    {
     "data": {
      "text/html": [
       "<div>\n",
       "<style scoped>\n",
       "    .dataframe tbody tr th:only-of-type {\n",
       "        vertical-align: middle;\n",
       "    }\n",
       "\n",
       "    .dataframe tbody tr th {\n",
       "        vertical-align: top;\n",
       "    }\n",
       "\n",
       "    .dataframe thead th {\n",
       "        text-align: right;\n",
       "    }\n",
       "</style>\n",
       "<table border=\"1\" class=\"dataframe\">\n",
       "  <thead>\n",
       "    <tr style=\"text-align: right;\">\n",
       "      <th></th>\n",
       "      <th>mismatch in water volume per day (ltr)</th>\n",
       "      <th>last maintenance of pump (days)</th>\n",
       "      <th>last maintenance of piping (days)</th>\n",
       "      <th>last maintenance of tank (days)</th>\n",
       "      <th>maintenance required (0/1)</th>\n",
       "    </tr>\n",
       "  </thead>\n",
       "  <tbody>\n",
       "    <tr>\n",
       "      <th>0</th>\n",
       "      <td>33</td>\n",
       "      <td>68</td>\n",
       "      <td>94</td>\n",
       "      <td>95</td>\n",
       "      <td>0</td>\n",
       "    </tr>\n",
       "    <tr>\n",
       "      <th>1</th>\n",
       "      <td>60</td>\n",
       "      <td>214</td>\n",
       "      <td>317</td>\n",
       "      <td>385</td>\n",
       "      <td>1</td>\n",
       "    </tr>\n",
       "    <tr>\n",
       "      <th>2</th>\n",
       "      <td>26</td>\n",
       "      <td>189</td>\n",
       "      <td>305</td>\n",
       "      <td>306</td>\n",
       "      <td>0</td>\n",
       "    </tr>\n",
       "    <tr>\n",
       "      <th>3</th>\n",
       "      <td>90</td>\n",
       "      <td>173</td>\n",
       "      <td>143</td>\n",
       "      <td>148</td>\n",
       "      <td>1</td>\n",
       "    </tr>\n",
       "    <tr>\n",
       "      <th>4</th>\n",
       "      <td>29</td>\n",
       "      <td>98</td>\n",
       "      <td>120</td>\n",
       "      <td>126</td>\n",
       "      <td>0</td>\n",
       "    </tr>\n",
       "  </tbody>\n",
       "</table>\n",
       "</div>"
      ],
      "text/plain": [
       "   mismatch in water volume per day (ltr)  last maintenance of pump (days)  \\\n",
       "0                                      33                               68   \n",
       "1                                      60                              214   \n",
       "2                                      26                              189   \n",
       "3                                      90                              173   \n",
       "4                                      29                               98   \n",
       "\n",
       "   last maintenance of piping (days)  last maintenance of tank (days)  \\\n",
       "0                                 94                               95   \n",
       "1                                317                              385   \n",
       "2                                305                              306   \n",
       "3                                143                              148   \n",
       "4                                120                              126   \n",
       "\n",
       "   maintenance required (0/1)  \n",
       "0                           0  \n",
       "1                           1  \n",
       "2                           0  \n",
       "3                           1  \n",
       "4                           0  "
      ]
     },
     "execution_count": 5,
     "metadata": {},
     "output_type": "execute_result"
    }
   ],
   "source": [
    "df.head()"
   ]
  },
  {
   "cell_type": "code",
   "execution_count": 7,
   "metadata": {},
   "outputs": [
    {
     "name": "stdout",
     "output_type": "stream",
     "text": [
      "<class 'pandas.core.frame.DataFrame'>\n",
      "RangeIndex: 50 entries, 0 to 49\n",
      "Data columns (total 5 columns):\n",
      " #   Column                                  Non-Null Count  Dtype\n",
      "---  ------                                  --------------  -----\n",
      " 0   mismatch in water volume per day (ltr)  50 non-null     int64\n",
      " 1   last maintenance of pump (days)         50 non-null     int64\n",
      " 2   last maintenance of piping (days)       50 non-null     int64\n",
      " 3   last maintenance of tank (days)         50 non-null     int64\n",
      " 4   maintenance required (0/1)              50 non-null     int64\n",
      "dtypes: int64(5)\n",
      "memory usage: 2.1 KB\n"
     ]
    }
   ],
   "source": [
    "df.info()"
   ]
  },
  {
   "cell_type": "code",
   "execution_count": 9,
   "metadata": {},
   "outputs": [
    {
     "data": {
      "text/html": [
       "<div>\n",
       "<style scoped>\n",
       "    .dataframe tbody tr th:only-of-type {\n",
       "        vertical-align: middle;\n",
       "    }\n",
       "\n",
       "    .dataframe tbody tr th {\n",
       "        vertical-align: top;\n",
       "    }\n",
       "\n",
       "    .dataframe thead th {\n",
       "        text-align: right;\n",
       "    }\n",
       "</style>\n",
       "<table border=\"1\" class=\"dataframe\">\n",
       "  <thead>\n",
       "    <tr style=\"text-align: right;\">\n",
       "      <th></th>\n",
       "      <th>mismatch in water volume per day (ltr)</th>\n",
       "      <th>last maintenance of pump (days)</th>\n",
       "      <th>last maintenance of piping (days)</th>\n",
       "      <th>last maintenance of tank (days)</th>\n",
       "      <th>maintenance required (0/1)</th>\n",
       "    </tr>\n",
       "  </thead>\n",
       "  <tbody>\n",
       "    <tr>\n",
       "      <th>mismatch in water volume per day (ltr)</th>\n",
       "      <td>1.000000</td>\n",
       "      <td>0.164175</td>\n",
       "      <td>0.171724</td>\n",
       "      <td>0.174453</td>\n",
       "      <td>0.678502</td>\n",
       "    </tr>\n",
       "    <tr>\n",
       "      <th>last maintenance of pump (days)</th>\n",
       "      <td>0.164175</td>\n",
       "      <td>1.000000</td>\n",
       "      <td>0.847311</td>\n",
       "      <td>0.841536</td>\n",
       "      <td>0.009636</td>\n",
       "    </tr>\n",
       "    <tr>\n",
       "      <th>last maintenance of piping (days)</th>\n",
       "      <td>0.171724</td>\n",
       "      <td>0.847311</td>\n",
       "      <td>1.000000</td>\n",
       "      <td>0.996791</td>\n",
       "      <td>-0.038954</td>\n",
       "    </tr>\n",
       "    <tr>\n",
       "      <th>last maintenance of tank (days)</th>\n",
       "      <td>0.174453</td>\n",
       "      <td>0.841536</td>\n",
       "      <td>0.996791</td>\n",
       "      <td>1.000000</td>\n",
       "      <td>-0.026546</td>\n",
       "    </tr>\n",
       "    <tr>\n",
       "      <th>maintenance required (0/1)</th>\n",
       "      <td>0.678502</td>\n",
       "      <td>0.009636</td>\n",
       "      <td>-0.038954</td>\n",
       "      <td>-0.026546</td>\n",
       "      <td>1.000000</td>\n",
       "    </tr>\n",
       "  </tbody>\n",
       "</table>\n",
       "</div>"
      ],
      "text/plain": [
       "                                        mismatch in water volume per day (ltr)  \\\n",
       "mismatch in water volume per day (ltr)                                1.000000   \n",
       "last maintenance of pump (days)                                       0.164175   \n",
       "last maintenance of piping (days)                                     0.171724   \n",
       "last maintenance of tank (days)                                       0.174453   \n",
       "maintenance required (0/1)                                            0.678502   \n",
       "\n",
       "                                        last maintenance of pump (days)  \\\n",
       "mismatch in water volume per day (ltr)                         0.164175   \n",
       "last maintenance of pump (days)                                1.000000   \n",
       "last maintenance of piping (days)                              0.847311   \n",
       "last maintenance of tank (days)                                0.841536   \n",
       "maintenance required (0/1)                                     0.009636   \n",
       "\n",
       "                                        last maintenance of piping (days)  \\\n",
       "mismatch in water volume per day (ltr)                           0.171724   \n",
       "last maintenance of pump (days)                                  0.847311   \n",
       "last maintenance of piping (days)                                1.000000   \n",
       "last maintenance of tank (days)                                  0.996791   \n",
       "maintenance required (0/1)                                      -0.038954   \n",
       "\n",
       "                                        last maintenance of tank (days)  \\\n",
       "mismatch in water volume per day (ltr)                         0.174453   \n",
       "last maintenance of pump (days)                                0.841536   \n",
       "last maintenance of piping (days)                              0.996791   \n",
       "last maintenance of tank (days)                                1.000000   \n",
       "maintenance required (0/1)                                    -0.026546   \n",
       "\n",
       "                                        maintenance required (0/1)  \n",
       "mismatch in water volume per day (ltr)                    0.678502  \n",
       "last maintenance of pump (days)                           0.009636  \n",
       "last maintenance of piping (days)                        -0.038954  \n",
       "last maintenance of tank (days)                          -0.026546  \n",
       "maintenance required (0/1)                                1.000000  "
      ]
     },
     "execution_count": 9,
     "metadata": {},
     "output_type": "execute_result"
    }
   ],
   "source": [
    "df.corr()"
   ]
  },
  {
   "cell_type": "code",
   "execution_count": 12,
   "metadata": {},
   "outputs": [
    {
     "data": {
      "text/plain": [
       "<matplotlib.axes._subplots.AxesSubplot at 0x5708c48>"
      ]
     },
     "execution_count": 12,
     "metadata": {},
     "output_type": "execute_result"
    },
    {
     "data": {
      "image/png": "[encoded data removed]",
      "text/plain": [
       "<Figure size 432x288 with 2 Axes>"
      ]
     },
     "metadata": {
      "needs_background": "light"
     },
     "output_type": "display_data"
    }
   ],
   "source": [
    "sns.heatmap(df.corr(), annot=True)"
   ]
  },
  {
   "cell_type": "code",
   "execution_count": 18,
   "metadata": {},
   "outputs": [],
   "source": [
    "from sklearn.model_selection import train_test_split"
   ]
  },
  {
   "cell_type": "code",
   "execution_count": 21,
   "metadata": {},
   "outputs": [
    {
     "data": {
      "text/html": [
       "<div>\n",
       "<style scoped>\n",
       "    .dataframe tbody tr th:only-of-type {\n",
       "        vertical-align: middle;\n",
       "    }\n",
       "\n",
       "    .dataframe tbody tr th {\n",
       "        vertical-align: top;\n",
       "    }\n",
       "\n",
       "    .dataframe thead th {\n",
       "        text-align: right;\n",
       "    }\n",
       "</style>\n",
       "<table border=\"1\" class=\"dataframe\">\n",
       "  <thead>\n",
       "    <tr style=\"text-align: right;\">\n",
       "      <th></th>\n",
       "      <th>mismatch in water volume per day (ltr)</th>\n",
       "      <th>last maintenance of pump (days)</th>\n",
       "      <th>last maintenance of piping (days)</th>\n",
       "      <th>last maintenance of tank (days)</th>\n",
       "    </tr>\n",
       "  </thead>\n",
       "  <tbody>\n",
       "    <tr>\n",
       "      <th>0</th>\n",
       "      <td>33</td>\n",
       "      <td>68</td>\n",
       "      <td>94</td>\n",
       "      <td>95</td>\n",
       "    </tr>\n",
       "    <tr>\n",
       "      <th>1</th>\n",
       "      <td>60</td>\n",
       "      <td>214</td>\n",
       "      <td>317</td>\n",
       "      <td>385</td>\n",
       "    </tr>\n",
       "    <tr>\n",
       "      <th>2</th>\n",
       "      <td>26</td>\n",
       "      <td>189</td>\n",
       "      <td>305</td>\n",
       "      <td>306</td>\n",
       "    </tr>\n",
       "    <tr>\n",
       "      <th>3</th>\n",
       "      <td>90</td>\n",
       "      <td>173</td>\n",
       "      <td>143</td>\n",
       "      <td>148</td>\n",
       "    </tr>\n",
       "    <tr>\n",
       "      <th>4</th>\n",
       "      <td>29</td>\n",
       "      <td>98</td>\n",
       "      <td>120</td>\n",
       "      <td>126</td>\n",
       "    </tr>\n",
       "  </tbody>\n",
       "</table>\n",
       "</div>"
      ],
      "text/plain": [
       "   mismatch in water volume per day (ltr)  last maintenance of pump (days)  \\\n",
       "0                                      33                               68   \n",
       "1                                      60                              214   \n",
       "2                                      26                              189   \n",
       "3                                      90                              173   \n",
       "4                                      29                               98   \n",
       "\n",
       "   last maintenance of piping (days)  last maintenance of tank (days)  \n",
       "0                                 94                               95  \n",
       "1                                317                              385  \n",
       "2                                305                              306  \n",
       "3                                143                              148  \n",
       "4                                120                              126  "
      ]
     },
     "execution_count": 21,
     "metadata": {},
     "output_type": "execute_result"
    }
   ],
   "source": [
    "x = df.drop('maintenance required (0/1)', axis=1)\n",
    "x.head()"
   ]
  },
  {
   "cell_type": "code",
   "execution_count": 23,
   "metadata": {},
   "outputs": [
    {
     "data": {
      "text/plain": [
       "0    0\n",
       "1    1\n",
       "2    0\n",
       "3    1\n",
       "4    0\n",
       "Name: maintenance required (0/1), dtype: int64"
      ]
     },
     "execution_count": 23,
     "metadata": {},
     "output_type": "execute_result"
    }
   ],
   "source": [
    "y = df['maintenance required (0/1)']\n",
    "y.head()"
   ]
  },
  {
   "cell_type": "code",
   "execution_count": 24,
   "metadata": {},
   "outputs": [],
   "source": [
    "x_train, x_test, y_train, y_test = train_test_split(x, y, test_size=0.3)"
   ]
  },
  {
   "cell_type": "code",
   "execution_count": 25,
   "metadata": {},
   "outputs": [],
   "source": [
    "from sklearn.linear_model import LogisticRegression"
   ]
  },
  {
   "cell_type": "code",
   "execution_count": 26,
   "metadata": {},
   "outputs": [],
   "source": [
    "lr = LogisticRegression()"
   ]
  },
  {
   "cell_type": "code",
   "execution_count": 27,
   "metadata": {},
   "outputs": [
    {
     "data": {
      "text/plain": [
       "LogisticRegression(C=1.0, class_weight=None, dual=False, fit_intercept=True,\n",
       "                   intercept_scaling=1, l1_ratio=None, max_iter=100,\n",
       "                   multi_class='auto', n_jobs=None, penalty='l2',\n",
       "                   random_state=None, solver='lbfgs', tol=0.0001, verbose=0,\n",
       "                   warm_start=False)"
      ]
     },
     "execution_count": 27,
     "metadata": {},
     "output_type": "execute_result"
    }
   ],
   "source": [
    "lr.fit(x_train, y_train)"
   ]
  },
  {
   "cell_type": "code",
   "execution_count": 29,
   "metadata": {},
   "outputs": [],
   "source": [
    "y_pred = lr.predict(x_test)"
   ]
  },
  {
   "cell_type": "code",
   "execution_count": 30,
   "metadata": {},
   "outputs": [],
   "source": [
    "from sklearn.metrics import confusion_matrix, accuracy_score"
   ]
  },
  {
   "cell_type": "code",
   "execution_count": 31,
   "metadata": {},
   "outputs": [
    {
     "data": {
      "text/plain": [
       "array([[7, 1],\n",
       "       [2, 5]], dtype=int64)"
      ]
     },
     "execution_count": 31,
     "metadata": {},
     "output_type": "execute_result"
    }
   ],
   "source": [
    "confusion_matrix(y_test, y_pred)"
   ]
  },
  {
   "cell_type": "code",
   "execution_count": 32,
   "metadata": {},
   "outputs": [
    {
     "data": {
      "text/plain": [
       "0.8"
      ]
     },
     "execution_count": 32,
     "metadata": {},
     "output_type": "execute_result"
    }
   ],
   "source": [
    "accuracy_score(y_test, y_pred)"
   ]
  }
 ],
 "metadata": {
  "kernelspec": {
   "display_name": "Python 3",
   "language": "python",
   "name": "python3"
  },
  "language_info": {
   "codemirror_mode": {
    "name": "ipython",
    "version": 3
   },
   "file_extension": ".py",
   "mimetype": "text/x-python",
   "name": "python",
   "nbconvert_exporter": "python",
   "pygments_lexer": "ipython3",
   "version": "3.7.6"
  }
 },
 "nbformat": 4,
 "nbformat_minor": 4
}
