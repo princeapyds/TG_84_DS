{
 "cells": [
  {
   "cell_type": "markdown",
   "metadata": {},
   "source": [
    "# Usecase-1: Pump & Tank surveillance"
   ]
  },
  {
   "cell_type": "markdown",
   "metadata": {},
   "source": [
    "The objective was to proactively initiate the process of pump or tank inspection and maintenance.\n",
    "There could be several reasons for not getting the required amount of water in the rooftop tank such as pump operational failure, or piping or valve or water tank leakages etc. \n",
    "\n",
    "When the pump did not deliver the required volume of water, it was evident that the pump was consuming more wattage of electrical power but doing lesser work and also it was an inconvenience for the building occupants as the water got over faster. In case of some leakage problem in pipes, valves and tank etc. electricity and water both of the essential resources were wasted which cost a great monetary sum in long run.\n",
    "\n",
    "By creating this model, we have helped our client to take proactive measures which was exteremely benificial. "
   ]
  },
  {
   "cell_type": "code",
   "execution_count": null,
   "metadata": {},
   "outputs": [],
   "source": [
    "import numpy as np\n",
    "import pandas as pd\n",
    "import seaborn as sns\n",
    "import matplotlib.pyplot as plt"
   ]
  },
  {
   "cell_type": "code",
   "execution_count": 2,
   "metadata": {},
   "outputs": [],
   "source": [
    "#Loading the Excel file to an object\n",
    "df = pd.read_excel('Use_case-1-Water_tank_and_pump_surveillance-Latest-Himanshu Raul.xlsx')"
   ]
  },
  {
   "cell_type": "code",
   "execution_count": 3,
   "metadata": {},
   "outputs": [
    {
     "data": {
      "text/html": [
       "<div>\n",
       "<style scoped>\n",
       "    .dataframe tbody tr th:only-of-type {\n",
       "        vertical-align: middle;\n",
       "    }\n",
       "\n",
       "    .dataframe tbody tr th {\n",
       "        vertical-align: top;\n",
       "    }\n",
       "\n",
       "    .dataframe thead th {\n",
       "        text-align: right;\n",
       "    }\n",
       "</style>\n",
       "<table border=\"1\" class=\"dataframe\">\n",
       "  <thead>\n",
       "    <tr style=\"text-align: right;\">\n",
       "      <th></th>\n",
       "      <th>Sl.no.</th>\n",
       "      <th>case id</th>\n",
       "      <th>mismatch in water volume per day (ltr)</th>\n",
       "      <th>last maintenance of pump (days)</th>\n",
       "      <th>last maintenance of piping (days)</th>\n",
       "      <th>last maintenance of tank (days)</th>\n",
       "      <th>maintenance required (YES or NO)</th>\n",
       "      <th>staff_id on duty</th>\n",
       "    </tr>\n",
       "  </thead>\n",
       "  <tbody>\n",
       "    <tr>\n",
       "      <th>0</th>\n",
       "      <td>1</td>\n",
       "      <td>YA-001</td>\n",
       "      <td>33</td>\n",
       "      <td>68.0</td>\n",
       "      <td>94.0</td>\n",
       "      <td>95.0</td>\n",
       "      <td>NO</td>\n",
       "      <td>EN-04-SE-0023</td>\n",
       "    </tr>\n",
       "    <tr>\n",
       "      <th>1</th>\n",
       "      <td>2</td>\n",
       "      <td>YA-002</td>\n",
       "      <td>60</td>\n",
       "      <td>214.0</td>\n",
       "      <td>317.0</td>\n",
       "      <td>NaN</td>\n",
       "      <td>YES</td>\n",
       "      <td>EN-04-SE-0509</td>\n",
       "    </tr>\n",
       "    <tr>\n",
       "      <th>2</th>\n",
       "      <td>3</td>\n",
       "      <td>YA-003</td>\n",
       "      <td>26</td>\n",
       "      <td>189.0</td>\n",
       "      <td>305.0</td>\n",
       "      <td>306.0</td>\n",
       "      <td>NO</td>\n",
       "      <td>EN-04-SE-0089</td>\n",
       "    </tr>\n",
       "    <tr>\n",
       "      <th>3</th>\n",
       "      <td>4</td>\n",
       "      <td>YA-004</td>\n",
       "      <td>90</td>\n",
       "      <td>173.0</td>\n",
       "      <td>143.0</td>\n",
       "      <td>148.0</td>\n",
       "      <td>YES</td>\n",
       "      <td>EN-04-SE-0214</td>\n",
       "    </tr>\n",
       "    <tr>\n",
       "      <th>4</th>\n",
       "      <td>5</td>\n",
       "      <td>YA-005</td>\n",
       "      <td>29</td>\n",
       "      <td>98.0</td>\n",
       "      <td>NaN</td>\n",
       "      <td>126.0</td>\n",
       "      <td>NO</td>\n",
       "      <td>EN-04-SE-0214</td>\n",
       "    </tr>\n",
       "  </tbody>\n",
       "</table>\n",
       "</div>"
      ],
      "text/plain": [
       "   Sl.no. case id  mismatch in water volume per day (ltr)  \\\n",
       "0       1  YA-001                                      33   \n",
       "1       2  YA-002                                      60   \n",
       "2       3  YA-003                                      26   \n",
       "3       4  YA-004                                      90   \n",
       "4       5  YA-005                                      29   \n",
       "\n",
       "   last maintenance of pump (days)  last maintenance of piping (days)  \\\n",
       "0                             68.0                               94.0   \n",
       "1                            214.0                              317.0   \n",
       "2                            189.0                              305.0   \n",
       "3                            173.0                              143.0   \n",
       "4                             98.0                                NaN   \n",
       "\n",
       "   last maintenance of tank (days) maintenance required (YES or NO)  \\\n",
       "0                             95.0                               NO   \n",
       "1                              NaN                              YES   \n",
       "2                            306.0                               NO   \n",
       "3                            148.0                              YES   \n",
       "4                            126.0                               NO   \n",
       "\n",
       "  staff_id on duty  \n",
       "0    EN-04-SE-0023  \n",
       "1    EN-04-SE-0509  \n",
       "2    EN-04-SE-0089  \n",
       "3    EN-04-SE-0214  \n",
       "4    EN-04-SE-0214  "
      ]
     },
     "execution_count": 3,
     "metadata": {},
     "output_type": "execute_result"
    }
   ],
   "source": [
    "df.head()"
   ]
  },
  {
   "cell_type": "code",
   "execution_count": 4,
   "metadata": {
    "scrolled": true
   },
   "outputs": [
    {
     "name": "stdout",
     "output_type": "stream",
     "text": [
      "<class 'pandas.core.frame.DataFrame'>\n",
      "RangeIndex: 50 entries, 0 to 49\n",
      "Data columns (total 8 columns):\n",
      " #   Column                                  Non-Null Count  Dtype  \n",
      "---  ------                                  --------------  -----  \n",
      " 0   Sl.no.                                  50 non-null     int64  \n",
      " 1   case id                                 50 non-null     object \n",
      " 2   mismatch in water volume per day (ltr)  50 non-null     int64  \n",
      " 3   last maintenance of pump (days)         46 non-null     float64\n",
      " 4   last maintenance of piping (days)       46 non-null     float64\n",
      " 5   last maintenance of tank (days)         44 non-null     float64\n",
      " 6   maintenance required (YES or NO)        50 non-null     object \n",
      " 7   staff_id on duty                        50 non-null     object \n",
      "dtypes: float64(3), int64(2), object(3)\n",
      "memory usage: 3.2+ KB\n"
     ]
    }
   ],
   "source": [
    "#Checking for Null values and other info\n",
    "df.info()"
   ]
  },
  {
   "cell_type": "code",
   "execution_count": 5,
   "metadata": {},
   "outputs": [],
   "source": [
    "#Taking care of Null values.\n",
    "df['last maintenance of pump (days)'] = df['last maintenance of pump (days)'].fillna(df['last maintenance of pump (days)'].mean())\n",
    "df['last maintenance of pump (days)']=df['last maintenance of pump (days)'].astype(int)\n",
    "\n",
    "df['last maintenance of piping (days)'] = df['last maintenance of piping (days)'].fillna(df['last maintenance of piping (days)'].mean())\n",
    "df['last maintenance of piping (days)']=df['last maintenance of piping (days)'].astype(int)\n",
    "\n",
    "df['last maintenance of tank (days)'] = df['last maintenance of tank (days)'].fillna(df['last maintenance of tank (days)'].mean())\n",
    "df['last maintenance of tank (days)']=df['last maintenance of tank (days)'].astype(int)"
   ]
  },
  {
   "cell_type": "code",
   "execution_count": 6,
   "metadata": {},
   "outputs": [
    {
     "name": "stdout",
     "output_type": "stream",
     "text": [
      "<class 'pandas.core.frame.DataFrame'>\n",
      "RangeIndex: 50 entries, 0 to 49\n",
      "Data columns (total 8 columns):\n",
      " #   Column                                  Non-Null Count  Dtype \n",
      "---  ------                                  --------------  ----- \n",
      " 0   Sl.no.                                  50 non-null     int64 \n",
      " 1   case id                                 50 non-null     object\n",
      " 2   mismatch in water volume per day (ltr)  50 non-null     int64 \n",
      " 3   last maintenance of pump (days)         50 non-null     int32 \n",
      " 4   last maintenance of piping (days)       50 non-null     int32 \n",
      " 5   last maintenance of tank (days)         50 non-null     int32 \n",
      " 6   maintenance required (YES or NO)        50 non-null     object\n",
      " 7   staff_id on duty                        50 non-null     object\n",
      "dtypes: int32(3), int64(2), object(3)\n",
      "memory usage: 2.7+ KB\n"
     ]
    }
   ],
   "source": [
    "#We can verify in info if we still have any Null values\n",
    "df.info()"
   ]
  },
  {
   "cell_type": "code",
   "execution_count": 7,
   "metadata": {},
   "outputs": [],
   "source": [
    "#Converting the target column into numeric.\n",
    "num = pd.get_dummies(df['maintenance required (YES or NO)'],drop_first=True)"
   ]
  },
  {
   "cell_type": "code",
   "execution_count": 8,
   "metadata": {},
   "outputs": [],
   "source": [
    "df = pd.concat([df,num],axis=1)"
   ]
  },
  {
   "cell_type": "code",
   "execution_count": 9,
   "metadata": {},
   "outputs": [
    {
     "data": {
      "text/html": [
       "<div>\n",
       "<style scoped>\n",
       "    .dataframe tbody tr th:only-of-type {\n",
       "        vertical-align: middle;\n",
       "    }\n",
       "\n",
       "    .dataframe tbody tr th {\n",
       "        vertical-align: top;\n",
       "    }\n",
       "\n",
       "    .dataframe thead th {\n",
       "        text-align: right;\n",
       "    }\n",
       "</style>\n",
       "<table border=\"1\" class=\"dataframe\">\n",
       "  <thead>\n",
       "    <tr style=\"text-align: right;\">\n",
       "      <th></th>\n",
       "      <th>Sl.no.</th>\n",
       "      <th>case id</th>\n",
       "      <th>mismatch in water volume per day (ltr)</th>\n",
       "      <th>last maintenance of pump (days)</th>\n",
       "      <th>last maintenance of piping (days)</th>\n",
       "      <th>last maintenance of tank (days)</th>\n",
       "      <th>maintenance required (YES or NO)</th>\n",
       "      <th>staff_id on duty</th>\n",
       "      <th>YES</th>\n",
       "    </tr>\n",
       "  </thead>\n",
       "  <tbody>\n",
       "    <tr>\n",
       "      <th>0</th>\n",
       "      <td>1</td>\n",
       "      <td>YA-001</td>\n",
       "      <td>33</td>\n",
       "      <td>68</td>\n",
       "      <td>94</td>\n",
       "      <td>95</td>\n",
       "      <td>NO</td>\n",
       "      <td>EN-04-SE-0023</td>\n",
       "      <td>0</td>\n",
       "    </tr>\n",
       "    <tr>\n",
       "      <th>1</th>\n",
       "      <td>2</td>\n",
       "      <td>YA-002</td>\n",
       "      <td>60</td>\n",
       "      <td>214</td>\n",
       "      <td>317</td>\n",
       "      <td>242</td>\n",
       "      <td>YES</td>\n",
       "      <td>EN-04-SE-0509</td>\n",
       "      <td>1</td>\n",
       "    </tr>\n",
       "    <tr>\n",
       "      <th>2</th>\n",
       "      <td>3</td>\n",
       "      <td>YA-003</td>\n",
       "      <td>26</td>\n",
       "      <td>189</td>\n",
       "      <td>305</td>\n",
       "      <td>306</td>\n",
       "      <td>NO</td>\n",
       "      <td>EN-04-SE-0089</td>\n",
       "      <td>0</td>\n",
       "    </tr>\n",
       "    <tr>\n",
       "      <th>3</th>\n",
       "      <td>4</td>\n",
       "      <td>YA-004</td>\n",
       "      <td>90</td>\n",
       "      <td>173</td>\n",
       "      <td>143</td>\n",
       "      <td>148</td>\n",
       "      <td>YES</td>\n",
       "      <td>EN-04-SE-0214</td>\n",
       "      <td>1</td>\n",
       "    </tr>\n",
       "    <tr>\n",
       "      <th>4</th>\n",
       "      <td>5</td>\n",
       "      <td>YA-005</td>\n",
       "      <td>29</td>\n",
       "      <td>98</td>\n",
       "      <td>242</td>\n",
       "      <td>126</td>\n",
       "      <td>NO</td>\n",
       "      <td>EN-04-SE-0214</td>\n",
       "      <td>0</td>\n",
       "    </tr>\n",
       "  </tbody>\n",
       "</table>\n",
       "</div>"
      ],
      "text/plain": [
       "   Sl.no. case id  mismatch in water volume per day (ltr)  \\\n",
       "0       1  YA-001                                      33   \n",
       "1       2  YA-002                                      60   \n",
       "2       3  YA-003                                      26   \n",
       "3       4  YA-004                                      90   \n",
       "4       5  YA-005                                      29   \n",
       "\n",
       "   last maintenance of pump (days)  last maintenance of piping (days)  \\\n",
       "0                               68                                 94   \n",
       "1                              214                                317   \n",
       "2                              189                                305   \n",
       "3                              173                                143   \n",
       "4                               98                                242   \n",
       "\n",
       "   last maintenance of tank (days) maintenance required (YES or NO)  \\\n",
       "0                               95                               NO   \n",
       "1                              242                              YES   \n",
       "2                              306                               NO   \n",
       "3                              148                              YES   \n",
       "4                              126                               NO   \n",
       "\n",
       "  staff_id on duty  YES  \n",
       "0    EN-04-SE-0023    0  \n",
       "1    EN-04-SE-0509    1  \n",
       "2    EN-04-SE-0089    0  \n",
       "3    EN-04-SE-0214    1  \n",
       "4    EN-04-SE-0214    0  "
      ]
     },
     "execution_count": 9,
     "metadata": {},
     "output_type": "execute_result"
    }
   ],
   "source": [
    "df.head()"
   ]
  },
  {
   "cell_type": "code",
   "execution_count": 10,
   "metadata": {},
   "outputs": [],
   "source": [
    "#Dropping the unwanted columns. \n",
    "df.drop(['Sl.no.','case id','maintenance required (YES or NO)','staff_id on duty'], axis=1, inplace=True)"
   ]
  },
  {
   "cell_type": "code",
   "execution_count": 11,
   "metadata": {},
   "outputs": [
    {
     "data": {
      "text/html": [
       "<div>\n",
       "<style scoped>\n",
       "    .dataframe tbody tr th:only-of-type {\n",
       "        vertical-align: middle;\n",
       "    }\n",
       "\n",
       "    .dataframe tbody tr th {\n",
       "        vertical-align: top;\n",
       "    }\n",
       "\n",
       "    .dataframe thead th {\n",
       "        text-align: right;\n",
       "    }\n",
       "</style>\n",
       "<table border=\"1\" class=\"dataframe\">\n",
       "  <thead>\n",
       "    <tr style=\"text-align: right;\">\n",
       "      <th></th>\n",
       "      <th>mismatch in water volume per day (ltr)</th>\n",
       "      <th>last maintenance of pump (days)</th>\n",
       "      <th>last maintenance of piping (days)</th>\n",
       "      <th>last maintenance of tank (days)</th>\n",
       "      <th>YES</th>\n",
       "    </tr>\n",
       "  </thead>\n",
       "  <tbody>\n",
       "    <tr>\n",
       "      <th>0</th>\n",
       "      <td>33</td>\n",
       "      <td>68</td>\n",
       "      <td>94</td>\n",
       "      <td>95</td>\n",
       "      <td>0</td>\n",
       "    </tr>\n",
       "    <tr>\n",
       "      <th>1</th>\n",
       "      <td>60</td>\n",
       "      <td>214</td>\n",
       "      <td>317</td>\n",
       "      <td>242</td>\n",
       "      <td>1</td>\n",
       "    </tr>\n",
       "    <tr>\n",
       "      <th>2</th>\n",
       "      <td>26</td>\n",
       "      <td>189</td>\n",
       "      <td>305</td>\n",
       "      <td>306</td>\n",
       "      <td>0</td>\n",
       "    </tr>\n",
       "    <tr>\n",
       "      <th>3</th>\n",
       "      <td>90</td>\n",
       "      <td>173</td>\n",
       "      <td>143</td>\n",
       "      <td>148</td>\n",
       "      <td>1</td>\n",
       "    </tr>\n",
       "    <tr>\n",
       "      <th>4</th>\n",
       "      <td>29</td>\n",
       "      <td>98</td>\n",
       "      <td>242</td>\n",
       "      <td>126</td>\n",
       "      <td>0</td>\n",
       "    </tr>\n",
       "  </tbody>\n",
       "</table>\n",
       "</div>"
      ],
      "text/plain": [
       "   mismatch in water volume per day (ltr)  last maintenance of pump (days)  \\\n",
       "0                                      33                               68   \n",
       "1                                      60                              214   \n",
       "2                                      26                              189   \n",
       "3                                      90                              173   \n",
       "4                                      29                               98   \n",
       "\n",
       "   last maintenance of piping (days)  last maintenance of tank (days)  YES  \n",
       "0                                 94                               95    0  \n",
       "1                                317                              242    1  \n",
       "2                                305                              306    0  \n",
       "3                                143                              148    1  \n",
       "4                                242                              126    0  "
      ]
     },
     "execution_count": 11,
     "metadata": {},
     "output_type": "execute_result"
    }
   ],
   "source": [
    "df.head()"
   ]
  },
  {
   "cell_type": "code",
   "execution_count": 12,
   "metadata": {},
   "outputs": [],
   "source": [
    "#Renaming the column names into a standard format by removing spaces etc. \n",
    "df.columns = ['mismatch_in_water_volume_per_day_(ltr)',\n",
    "                    'last_maintenance_of_pump_(days)','last_maintenance_of_piping_(days)',\n",
    "                   'last_maintenance_of_tank_(days)','maintenance_required_(0/1)']"
   ]
  },
  {
   "cell_type": "code",
   "execution_count": 13,
   "metadata": {},
   "outputs": [
    {
     "data": {
      "text/html": [
       "<div>\n",
       "<style scoped>\n",
       "    .dataframe tbody tr th:only-of-type {\n",
       "        vertical-align: middle;\n",
       "    }\n",
       "\n",
       "    .dataframe tbody tr th {\n",
       "        vertical-align: top;\n",
       "    }\n",
       "\n",
       "    .dataframe thead th {\n",
       "        text-align: right;\n",
       "    }\n",
       "</style>\n",
       "<table border=\"1\" class=\"dataframe\">\n",
       "  <thead>\n",
       "    <tr style=\"text-align: right;\">\n",
       "      <th></th>\n",
       "      <th>mismatch_in_water_volume_per_day_(ltr)</th>\n",
       "      <th>last_maintenance_of_pump_(days)</th>\n",
       "      <th>last_maintenance_of_piping_(days)</th>\n",
       "      <th>last_maintenance_of_tank_(days)</th>\n",
       "      <th>maintenance_required_(0/1)</th>\n",
       "    </tr>\n",
       "  </thead>\n",
       "  <tbody>\n",
       "    <tr>\n",
       "      <th>0</th>\n",
       "      <td>33</td>\n",
       "      <td>68</td>\n",
       "      <td>94</td>\n",
       "      <td>95</td>\n",
       "      <td>0</td>\n",
       "    </tr>\n",
       "    <tr>\n",
       "      <th>1</th>\n",
       "      <td>60</td>\n",
       "      <td>214</td>\n",
       "      <td>317</td>\n",
       "      <td>242</td>\n",
       "      <td>1</td>\n",
       "    </tr>\n",
       "    <tr>\n",
       "      <th>2</th>\n",
       "      <td>26</td>\n",
       "      <td>189</td>\n",
       "      <td>305</td>\n",
       "      <td>306</td>\n",
       "      <td>0</td>\n",
       "    </tr>\n",
       "    <tr>\n",
       "      <th>3</th>\n",
       "      <td>90</td>\n",
       "      <td>173</td>\n",
       "      <td>143</td>\n",
       "      <td>148</td>\n",
       "      <td>1</td>\n",
       "    </tr>\n",
       "    <tr>\n",
       "      <th>4</th>\n",
       "      <td>29</td>\n",
       "      <td>98</td>\n",
       "      <td>242</td>\n",
       "      <td>126</td>\n",
       "      <td>0</td>\n",
       "    </tr>\n",
       "  </tbody>\n",
       "</table>\n",
       "</div>"
      ],
      "text/plain": [
       "   mismatch_in_water_volume_per_day_(ltr)  last_maintenance_of_pump_(days)  \\\n",
       "0                                      33                               68   \n",
       "1                                      60                              214   \n",
       "2                                      26                              189   \n",
       "3                                      90                              173   \n",
       "4                                      29                               98   \n",
       "\n",
       "   last_maintenance_of_piping_(days)  last_maintenance_of_tank_(days)  \\\n",
       "0                                 94                               95   \n",
       "1                                317                              242   \n",
       "2                                305                              306   \n",
       "3                                143                              148   \n",
       "4                                242                              126   \n",
       "\n",
       "   maintenance_required_(0/1)  \n",
       "0                           0  \n",
       "1                           1  \n",
       "2                           0  \n",
       "3                           1  \n",
       "4                           0  "
      ]
     },
     "execution_count": 13,
     "metadata": {},
     "output_type": "execute_result"
    }
   ],
   "source": [
    "#Checking the final dataframe to be processed by the algorithm\n",
    "df.head()"
   ]
  },
  {
   "cell_type": "code",
   "execution_count": 14,
   "metadata": {},
   "outputs": [
    {
     "data": {
      "text/plain": [
       "<matplotlib.axes._subplots.AxesSubplot at 0xa080c48>"
      ]
     },
     "execution_count": 14,
     "metadata": {},
     "output_type": "execute_result"
    },
    {
     "data": {
      "image/png": "[encoded data removed]",
      "text/plain": [
       "<Figure size 432x288 with 2 Axes>"
      ]
     },
     "metadata": {
      "needs_background": "light"
     },
     "output_type": "display_data"
    }
   ],
   "source": [
    "#Checking the correlation with the help of a Seaborn Heatmap\n",
    "sns.heatmap(df.corr(), annot=True)"
   ]
  },
  {
   "cell_type": "code",
   "execution_count": 15,
   "metadata": {},
   "outputs": [],
   "source": [
    "from sklearn.model_selection import train_test_split"
   ]
  },
  {
   "cell_type": "code",
   "execution_count": 16,
   "metadata": {},
   "outputs": [
    {
     "data": {
      "text/html": [
       "<div>\n",
       "<style scoped>\n",
       "    .dataframe tbody tr th:only-of-type {\n",
       "        vertical-align: middle;\n",
       "    }\n",
       "\n",
       "    .dataframe tbody tr th {\n",
       "        vertical-align: top;\n",
       "    }\n",
       "\n",
       "    .dataframe thead th {\n",
       "        text-align: right;\n",
       "    }\n",
       "</style>\n",
       "<table border=\"1\" class=\"dataframe\">\n",
       "  <thead>\n",
       "    <tr style=\"text-align: right;\">\n",
       "      <th></th>\n",
       "      <th>mismatch_in_water_volume_per_day_(ltr)</th>\n",
       "      <th>last_maintenance_of_pump_(days)</th>\n",
       "      <th>last_maintenance_of_piping_(days)</th>\n",
       "      <th>last_maintenance_of_tank_(days)</th>\n",
       "    </tr>\n",
       "  </thead>\n",
       "  <tbody>\n",
       "    <tr>\n",
       "      <th>0</th>\n",
       "      <td>33</td>\n",
       "      <td>68</td>\n",
       "      <td>94</td>\n",
       "      <td>95</td>\n",
       "    </tr>\n",
       "    <tr>\n",
       "      <th>1</th>\n",
       "      <td>60</td>\n",
       "      <td>214</td>\n",
       "      <td>317</td>\n",
       "      <td>242</td>\n",
       "    </tr>\n",
       "    <tr>\n",
       "      <th>2</th>\n",
       "      <td>26</td>\n",
       "      <td>189</td>\n",
       "      <td>305</td>\n",
       "      <td>306</td>\n",
       "    </tr>\n",
       "    <tr>\n",
       "      <th>3</th>\n",
       "      <td>90</td>\n",
       "      <td>173</td>\n",
       "      <td>143</td>\n",
       "      <td>148</td>\n",
       "    </tr>\n",
       "    <tr>\n",
       "      <th>4</th>\n",
       "      <td>29</td>\n",
       "      <td>98</td>\n",
       "      <td>242</td>\n",
       "      <td>126</td>\n",
       "    </tr>\n",
       "  </tbody>\n",
       "</table>\n",
       "</div>"
      ],
      "text/plain": [
       "   mismatch_in_water_volume_per_day_(ltr)  last_maintenance_of_pump_(days)  \\\n",
       "0                                      33                               68   \n",
       "1                                      60                              214   \n",
       "2                                      26                              189   \n",
       "3                                      90                              173   \n",
       "4                                      29                               98   \n",
       "\n",
       "   last_maintenance_of_piping_(days)  last_maintenance_of_tank_(days)  \n",
       "0                                 94                               95  \n",
       "1                                317                              242  \n",
       "2                                305                              306  \n",
       "3                                143                              148  \n",
       "4                                242                              126  "
      ]
     },
     "execution_count": 16,
     "metadata": {},
     "output_type": "execute_result"
    }
   ],
   "source": [
    "#Preparing the x and y value for train-test-split and the ML algorithm\n",
    "x = df.drop('maintenance_required_(0/1)', axis=1)\n",
    "x.head()"
   ]
  },
  {
   "cell_type": "code",
   "execution_count": 17,
   "metadata": {},
   "outputs": [
    {
     "data": {
      "text/plain": [
       "0    0\n",
       "1    1\n",
       "2    0\n",
       "3    1\n",
       "4    0\n",
       "Name: maintenance_required_(0/1), dtype: uint8"
      ]
     },
     "execution_count": 17,
     "metadata": {},
     "output_type": "execute_result"
    }
   ],
   "source": [
    "y = df['maintenance_required_(0/1)']\n",
    "y.head()"
   ]
  },
  {
   "cell_type": "code",
   "execution_count": 112,
   "metadata": {},
   "outputs": [],
   "source": [
    "x_train, x_test, y_train, y_test = train_test_split(x, y, test_size=0.3,random_state=4)"
   ]
  },
  {
   "cell_type": "code",
   "execution_count": 113,
   "metadata": {},
   "outputs": [],
   "source": [
    "from sklearn.linear_model import LogisticRegression"
   ]
  },
  {
   "cell_type": "code",
   "execution_count": 114,
   "metadata": {},
   "outputs": [],
   "source": [
    "lr = LogisticRegression()"
   ]
  },
  {
   "cell_type": "code",
   "execution_count": 115,
   "metadata": {},
   "outputs": [
    {
     "data": {
      "text/plain": [
       "LogisticRegression(C=1.0, class_weight=None, dual=False, fit_intercept=True,\n",
       "                   intercept_scaling=1, l1_ratio=None, max_iter=100,\n",
       "                   multi_class='auto', n_jobs=None, penalty='l2',\n",
       "                   random_state=None, solver='lbfgs', tol=0.0001, verbose=0,\n",
       "                   warm_start=False)"
      ]
     },
     "execution_count": 115,
     "metadata": {},
     "output_type": "execute_result"
    }
   ],
   "source": [
    "#Fitting the train data into the model\n",
    "lr.fit(x_train, y_train)"
   ]
  },
  {
   "cell_type": "code",
   "execution_count": 116,
   "metadata": {},
   "outputs": [],
   "source": [
    "#Predicting the test output\n",
    "y_pred = lr.predict(x_test)"
   ]
  },
  {
   "cell_type": "code",
   "execution_count": 117,
   "metadata": {},
   "outputs": [],
   "source": [
    "from sklearn.metrics import confusion_matrix, accuracy_score"
   ]
  },
  {
   "cell_type": "code",
   "execution_count": 118,
   "metadata": {},
   "outputs": [
    {
     "data": {
      "text/plain": [
       "array([[10,  0],\n",
       "       [ 1,  4]], dtype=int64)"
      ]
     },
     "execution_count": 118,
     "metadata": {},
     "output_type": "execute_result"
    }
   ],
   "source": [
    "confusion_matrix(y_test, y_pred)"
   ]
  },
  {
   "cell_type": "code",
   "execution_count": 119,
   "metadata": {},
   "outputs": [
    {
     "data": {
      "text/plain": [
       "0.9333333333333333"
      ]
     },
     "execution_count": 119,
     "metadata": {},
     "output_type": "execute_result"
    }
   ],
   "source": [
    "#Checking for accuracy\n",
    "accuracy_score(y_test, y_pred)"
   ]
  },
  {
   "cell_type": "markdown",
   "metadata": {},
   "source": [
    "Conclusion: We have acheived a good level of accuracy for the model with the help of Logistic Regression. "
   ]
  }
 ],
 "metadata": {
  "kernelspec": {
   "display_name": "Python 3",
   "language": "python",
   "name": "python3"
  },
  "language_info": {
   "codemirror_mode": {
    "name": "ipython",
    "version": 3
   },
   "file_extension": ".py",
   "mimetype": "text/x-python",
   "name": "python",
   "nbconvert_exporter": "python",
   "pygments_lexer": "ipython3",
   "version": "3.7.6"
  }
 },
 "nbformat": 4,
 "nbformat_minor": 4
}
