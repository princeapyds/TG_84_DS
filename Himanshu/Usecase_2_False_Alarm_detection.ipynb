{
 "cells": [
  {
   "cell_type": "markdown",
   "metadata": {},
   "source": [
    "# Usecase - 2: False Alarm Detection"
   ]
  },
  {
   "cell_type": "markdown",
   "metadata": {},
   "source": [
    "This requirement was for a food industry where raw food items like meat, vegetables are packed and dispatched to the market. So this factory has deep freezer areas for meat and vegetable storage where the temperature is below zero degree Celsius. In such areas, mostly nitrogen sprinkler systems are used for firefighting. \n",
    "\n",
    "In case of a false alarm, nitrogen would be wasted, food items would be damaged plus the entire system has to be recalibrated which was clearly an unnecessary expense.\n",
    "\n",
    "We used Decision Tree Algorithm to know whether it was a true or false alarm.  In case of 0, it is a false alarm. So the nitrogen sprinkler system will not activate. In case of 1, it is a dangerous situation, so the sprinkler system will activate to extinguish the fire. Hence, it helped our client to save a great deal of monetary sum in long run"
   ]
  },
  {
   "cell_type": "code",
   "execution_count": 1,
   "metadata": {},
   "outputs": [],
   "source": [
    "import numpy as np\n",
    "import pandas as pd\n",
    "import seaborn as sns\n",
    "import matplotlib.pyplot as plt"
   ]
  },
  {
   "cell_type": "code",
   "execution_count": 70,
   "metadata": {},
   "outputs": [],
   "source": [
    "df = pd.read_excel('Usecase_2_False_Alarm_detection.xlsx')"
   ]
  },
  {
   "cell_type": "code",
   "execution_count": 71,
   "metadata": {},
   "outputs": [
    {
     "data": {
      "text/html": [
       "<div>\n",
       "<style scoped>\n",
       "    .dataframe tbody tr th:only-of-type {\n",
       "        vertical-align: middle;\n",
       "    }\n",
       "\n",
       "    .dataframe tbody tr th {\n",
       "        vertical-align: top;\n",
       "    }\n",
       "\n",
       "    .dataframe thead th {\n",
       "        text-align: right;\n",
       "    }\n",
       "</style>\n",
       "<table border=\"1\" class=\"dataframe\">\n",
       "  <thead>\n",
       "    <tr style=\"text-align: right;\">\n",
       "      <th></th>\n",
       "      <th>Sr. no.</th>\n",
       "      <th>Case ID</th>\n",
       "      <th>Ambient temperature (degF)</th>\n",
       "      <th>Calibration (days)</th>\n",
       "      <th>Unwanted substance deposition (YES/NO)</th>\n",
       "      <th>Relative humidity (%)</th>\n",
       "      <th>Dangerous (YES/NO)</th>\n",
       "    </tr>\n",
       "  </thead>\n",
       "  <tbody>\n",
       "    <tr>\n",
       "      <th>0</th>\n",
       "      <td>1</td>\n",
       "      <td>C-PL-0001</td>\n",
       "      <td>15.0</td>\n",
       "      <td>190.0</td>\n",
       "      <td>YES</td>\n",
       "      <td>95.0</td>\n",
       "      <td>NO</td>\n",
       "    </tr>\n",
       "    <tr>\n",
       "      <th>1</th>\n",
       "      <td>2</td>\n",
       "      <td>C-PL-0002</td>\n",
       "      <td>10.0</td>\n",
       "      <td>143.0</td>\n",
       "      <td>YES</td>\n",
       "      <td>89.0</td>\n",
       "      <td>NO</td>\n",
       "    </tr>\n",
       "    <tr>\n",
       "      <th>2</th>\n",
       "      <td>3</td>\n",
       "      <td>C-PL-0003</td>\n",
       "      <td>21.0</td>\n",
       "      <td>97.0</td>\n",
       "      <td>NO</td>\n",
       "      <td>80.0</td>\n",
       "      <td>YES</td>\n",
       "    </tr>\n",
       "    <tr>\n",
       "      <th>3</th>\n",
       "      <td>4</td>\n",
       "      <td>C-PL-0004</td>\n",
       "      <td>NaN</td>\n",
       "      <td>180.0</td>\n",
       "      <td>NO</td>\n",
       "      <td>NaN</td>\n",
       "      <td>NO</td>\n",
       "    </tr>\n",
       "    <tr>\n",
       "      <th>4</th>\n",
       "      <td>5</td>\n",
       "      <td>C-PL-0005</td>\n",
       "      <td>27.0</td>\n",
       "      <td>198.0</td>\n",
       "      <td>NO</td>\n",
       "      <td>79.0</td>\n",
       "      <td>YES</td>\n",
       "    </tr>\n",
       "  </tbody>\n",
       "</table>\n",
       "</div>"
      ],
      "text/plain": [
       "   Sr. no.    Case ID  Ambient temperature (degF)  Calibration (days)  \\\n",
       "0        1  C-PL-0001                        15.0               190.0   \n",
       "1        2  C-PL-0002                        10.0               143.0   \n",
       "2        3  C-PL-0003                        21.0                97.0   \n",
       "3        4  C-PL-0004                         NaN               180.0   \n",
       "4        5  C-PL-0005                        27.0               198.0   \n",
       "\n",
       "  Unwanted substance deposition (YES/NO)  Relative humidity (%)  \\\n",
       "0                                    YES                   95.0   \n",
       "1                                    YES                   89.0   \n",
       "2                                     NO                   80.0   \n",
       "3                                     NO                    NaN   \n",
       "4                                     NO                   79.0   \n",
       "\n",
       "  Dangerous (YES/NO)  \n",
       "0                 NO  \n",
       "1                 NO  \n",
       "2                YES  \n",
       "3                 NO  \n",
       "4                YES  "
      ]
     },
     "execution_count": 71,
     "metadata": {},
     "output_type": "execute_result"
    }
   ],
   "source": [
    "df.head()"
   ]
  },
  {
   "cell_type": "code",
   "execution_count": 72,
   "metadata": {},
   "outputs": [
    {
     "name": "stdout",
     "output_type": "stream",
     "text": [
      "<class 'pandas.core.frame.DataFrame'>\n",
      "RangeIndex: 50 entries, 0 to 49\n",
      "Data columns (total 7 columns):\n",
      " #   Column                                  Non-Null Count  Dtype  \n",
      "---  ------                                  --------------  -----  \n",
      " 0   Sr. no.                                 50 non-null     int64  \n",
      " 1   Case ID                                 50 non-null     object \n",
      " 2   Ambient temperature (degF)              45 non-null     float64\n",
      " 3   Calibration (days)                      47 non-null     float64\n",
      " 4   Unwanted substance deposition (YES/NO)  50 non-null     object \n",
      " 5   Relative humidity (%)                   45 non-null     float64\n",
      " 6   Dangerous (YES/NO)                      50 non-null     object \n",
      "dtypes: float64(3), int64(1), object(3)\n",
      "memory usage: 2.9+ KB\n"
     ]
    }
   ],
   "source": [
    "df.info()"
   ]
  },
  {
   "cell_type": "code",
   "execution_count": 73,
   "metadata": {
    "scrolled": true
   },
   "outputs": [],
   "source": [
    "# Converting the values of Non-numeric column and target column into numeric\n",
    "df = pd.get_dummies(data=df, columns=['Dangerous (YES/NO)','Unwanted substance deposition (YES/NO)'], drop_first=True)"
   ]
  },
  {
   "cell_type": "code",
   "execution_count": 74,
   "metadata": {},
   "outputs": [
    {
     "data": {
      "text/html": [
       "<div>\n",
       "<style scoped>\n",
       "    .dataframe tbody tr th:only-of-type {\n",
       "        vertical-align: middle;\n",
       "    }\n",
       "\n",
       "    .dataframe tbody tr th {\n",
       "        vertical-align: top;\n",
       "    }\n",
       "\n",
       "    .dataframe thead th {\n",
       "        text-align: right;\n",
       "    }\n",
       "</style>\n",
       "<table border=\"1\" class=\"dataframe\">\n",
       "  <thead>\n",
       "    <tr style=\"text-align: right;\">\n",
       "      <th></th>\n",
       "      <th>Sr. no.</th>\n",
       "      <th>Case ID</th>\n",
       "      <th>Ambient temperature (degF)</th>\n",
       "      <th>Calibration (days)</th>\n",
       "      <th>Relative humidity (%)</th>\n",
       "      <th>Dangerous (YES/NO)_YES</th>\n",
       "      <th>Unwanted substance deposition (YES/NO)_YES</th>\n",
       "    </tr>\n",
       "  </thead>\n",
       "  <tbody>\n",
       "    <tr>\n",
       "      <th>0</th>\n",
       "      <td>1</td>\n",
       "      <td>C-PL-0001</td>\n",
       "      <td>15.0</td>\n",
       "      <td>190.0</td>\n",
       "      <td>95.0</td>\n",
       "      <td>0</td>\n",
       "      <td>1</td>\n",
       "    </tr>\n",
       "    <tr>\n",
       "      <th>1</th>\n",
       "      <td>2</td>\n",
       "      <td>C-PL-0002</td>\n",
       "      <td>10.0</td>\n",
       "      <td>143.0</td>\n",
       "      <td>89.0</td>\n",
       "      <td>0</td>\n",
       "      <td>1</td>\n",
       "    </tr>\n",
       "    <tr>\n",
       "      <th>2</th>\n",
       "      <td>3</td>\n",
       "      <td>C-PL-0003</td>\n",
       "      <td>21.0</td>\n",
       "      <td>97.0</td>\n",
       "      <td>80.0</td>\n",
       "      <td>1</td>\n",
       "      <td>0</td>\n",
       "    </tr>\n",
       "    <tr>\n",
       "      <th>3</th>\n",
       "      <td>4</td>\n",
       "      <td>C-PL-0004</td>\n",
       "      <td>NaN</td>\n",
       "      <td>180.0</td>\n",
       "      <td>NaN</td>\n",
       "      <td>0</td>\n",
       "      <td>0</td>\n",
       "    </tr>\n",
       "    <tr>\n",
       "      <th>4</th>\n",
       "      <td>5</td>\n",
       "      <td>C-PL-0005</td>\n",
       "      <td>27.0</td>\n",
       "      <td>198.0</td>\n",
       "      <td>79.0</td>\n",
       "      <td>1</td>\n",
       "      <td>0</td>\n",
       "    </tr>\n",
       "  </tbody>\n",
       "</table>\n",
       "</div>"
      ],
      "text/plain": [
       "   Sr. no.    Case ID  Ambient temperature (degF)  Calibration (days)  \\\n",
       "0        1  C-PL-0001                        15.0               190.0   \n",
       "1        2  C-PL-0002                        10.0               143.0   \n",
       "2        3  C-PL-0003                        21.0                97.0   \n",
       "3        4  C-PL-0004                         NaN               180.0   \n",
       "4        5  C-PL-0005                        27.0               198.0   \n",
       "\n",
       "   Relative humidity (%)  Dangerous (YES/NO)_YES  \\\n",
       "0                   95.0                       0   \n",
       "1                   89.0                       0   \n",
       "2                   80.0                       1   \n",
       "3                    NaN                       0   \n",
       "4                   79.0                       1   \n",
       "\n",
       "   Unwanted substance deposition (YES/NO)_YES  \n",
       "0                                           1  \n",
       "1                                           1  \n",
       "2                                           0  \n",
       "3                                           0  \n",
       "4                                           0  "
      ]
     },
     "execution_count": 74,
     "metadata": {},
     "output_type": "execute_result"
    }
   ],
   "source": [
    "df.head()"
   ]
  },
  {
   "cell_type": "code",
   "execution_count": 75,
   "metadata": {},
   "outputs": [],
   "source": [
    "#Dropping all unwanted columns\n",
    "df = df.drop(['Sr. no.','Case ID'],axis=1)"
   ]
  },
  {
   "cell_type": "code",
   "execution_count": 77,
   "metadata": {},
   "outputs": [
    {
     "data": {
      "text/html": [
       "<div>\n",
       "<style scoped>\n",
       "    .dataframe tbody tr th:only-of-type {\n",
       "        vertical-align: middle;\n",
       "    }\n",
       "\n",
       "    .dataframe tbody tr th {\n",
       "        vertical-align: top;\n",
       "    }\n",
       "\n",
       "    .dataframe thead th {\n",
       "        text-align: right;\n",
       "    }\n",
       "</style>\n",
       "<table border=\"1\" class=\"dataframe\">\n",
       "  <thead>\n",
       "    <tr style=\"text-align: right;\">\n",
       "      <th></th>\n",
       "      <th>Ambient temperature (degF)</th>\n",
       "      <th>Calibration (days)</th>\n",
       "      <th>Relative humidity (%)</th>\n",
       "      <th>Dangerous (YES/NO)_YES</th>\n",
       "      <th>Unwanted substance deposition (YES/NO)_YES</th>\n",
       "    </tr>\n",
       "  </thead>\n",
       "  <tbody>\n",
       "    <tr>\n",
       "      <th>0</th>\n",
       "      <td>15.0</td>\n",
       "      <td>190.0</td>\n",
       "      <td>95.0</td>\n",
       "      <td>0</td>\n",
       "      <td>1</td>\n",
       "    </tr>\n",
       "    <tr>\n",
       "      <th>1</th>\n",
       "      <td>10.0</td>\n",
       "      <td>143.0</td>\n",
       "      <td>89.0</td>\n",
       "      <td>0</td>\n",
       "      <td>1</td>\n",
       "    </tr>\n",
       "    <tr>\n",
       "      <th>2</th>\n",
       "      <td>21.0</td>\n",
       "      <td>97.0</td>\n",
       "      <td>80.0</td>\n",
       "      <td>1</td>\n",
       "      <td>0</td>\n",
       "    </tr>\n",
       "    <tr>\n",
       "      <th>3</th>\n",
       "      <td>NaN</td>\n",
       "      <td>180.0</td>\n",
       "      <td>NaN</td>\n",
       "      <td>0</td>\n",
       "      <td>0</td>\n",
       "    </tr>\n",
       "    <tr>\n",
       "      <th>4</th>\n",
       "      <td>27.0</td>\n",
       "      <td>198.0</td>\n",
       "      <td>79.0</td>\n",
       "      <td>1</td>\n",
       "      <td>0</td>\n",
       "    </tr>\n",
       "  </tbody>\n",
       "</table>\n",
       "</div>"
      ],
      "text/plain": [
       "   Ambient temperature (degF)  Calibration (days)  Relative humidity (%)  \\\n",
       "0                        15.0               190.0                   95.0   \n",
       "1                        10.0               143.0                   89.0   \n",
       "2                        21.0                97.0                   80.0   \n",
       "3                         NaN               180.0                    NaN   \n",
       "4                        27.0               198.0                   79.0   \n",
       "\n",
       "   Dangerous (YES/NO)_YES  Unwanted substance deposition (YES/NO)_YES  \n",
       "0                       0                                           1  \n",
       "1                       0                                           1  \n",
       "2                       1                                           0  \n",
       "3                       0                                           0  \n",
       "4                       1                                           0  "
      ]
     },
     "execution_count": 77,
     "metadata": {},
     "output_type": "execute_result"
    }
   ],
   "source": [
    "df.head()"
   ]
  },
  {
   "cell_type": "code",
   "execution_count": 79,
   "metadata": {},
   "outputs": [],
   "source": [
    "# Renaming the column names into standard format by removing spaces etc.\n",
    "df.columns = ['ambient_temperature_(degF)', 'calibration_(days)',\n",
    "       'relative_humidity_(%)', 'dangerous_(0/1)',\n",
    "       'unwanted_substance_deposition_(0/1)']"
   ]
  },
  {
   "cell_type": "code",
   "execution_count": 81,
   "metadata": {},
   "outputs": [
    {
     "data": {
      "text/html": [
       "<div>\n",
       "<style scoped>\n",
       "    .dataframe tbody tr th:only-of-type {\n",
       "        vertical-align: middle;\n",
       "    }\n",
       "\n",
       "    .dataframe tbody tr th {\n",
       "        vertical-align: top;\n",
       "    }\n",
       "\n",
       "    .dataframe thead th {\n",
       "        text-align: right;\n",
       "    }\n",
       "</style>\n",
       "<table border=\"1\" class=\"dataframe\">\n",
       "  <thead>\n",
       "    <tr style=\"text-align: right;\">\n",
       "      <th></th>\n",
       "      <th>ambient_temperature_(degF)</th>\n",
       "      <th>calibration_(days)</th>\n",
       "      <th>relative_humidity_(%)</th>\n",
       "      <th>unwanted_substance_deposition_(0/1)</th>\n",
       "      <th>dangerous_(0/1)</th>\n",
       "    </tr>\n",
       "  </thead>\n",
       "  <tbody>\n",
       "    <tr>\n",
       "      <th>0</th>\n",
       "      <td>15.0</td>\n",
       "      <td>190.0</td>\n",
       "      <td>95.0</td>\n",
       "      <td>1</td>\n",
       "      <td>0</td>\n",
       "    </tr>\n",
       "    <tr>\n",
       "      <th>1</th>\n",
       "      <td>10.0</td>\n",
       "      <td>143.0</td>\n",
       "      <td>89.0</td>\n",
       "      <td>1</td>\n",
       "      <td>0</td>\n",
       "    </tr>\n",
       "    <tr>\n",
       "      <th>2</th>\n",
       "      <td>21.0</td>\n",
       "      <td>97.0</td>\n",
       "      <td>80.0</td>\n",
       "      <td>0</td>\n",
       "      <td>1</td>\n",
       "    </tr>\n",
       "    <tr>\n",
       "      <th>3</th>\n",
       "      <td>NaN</td>\n",
       "      <td>180.0</td>\n",
       "      <td>NaN</td>\n",
       "      <td>0</td>\n",
       "      <td>0</td>\n",
       "    </tr>\n",
       "    <tr>\n",
       "      <th>4</th>\n",
       "      <td>27.0</td>\n",
       "      <td>198.0</td>\n",
       "      <td>79.0</td>\n",
       "      <td>0</td>\n",
       "      <td>1</td>\n",
       "    </tr>\n",
       "  </tbody>\n",
       "</table>\n",
       "</div>"
      ],
      "text/plain": [
       "   ambient_temperature_(degF)  calibration_(days)  relative_humidity_(%)  \\\n",
       "0                        15.0               190.0                   95.0   \n",
       "1                        10.0               143.0                   89.0   \n",
       "2                        21.0                97.0                   80.0   \n",
       "3                         NaN               180.0                    NaN   \n",
       "4                        27.0               198.0                   79.0   \n",
       "\n",
       "   unwanted_substance_deposition_(0/1)  dangerous_(0/1)  \n",
       "0                                    1                0  \n",
       "1                                    1                0  \n",
       "2                                    0                1  \n",
       "3                                    0                0  \n",
       "4                                    0                1  "
      ]
     },
     "execution_count": 81,
     "metadata": {},
     "output_type": "execute_result"
    }
   ],
   "source": [
    "# Rearranging the order of columns\n",
    "df = df[['ambient_temperature_(degF)', 'calibration_(days)','relative_humidity_(%)',\n",
    "       'unwanted_substance_deposition_(0/1)','dangerous_(0/1)']]\n",
    "df.head()"
   ]
  },
  {
   "cell_type": "code",
   "execution_count": 86,
   "metadata": {
    "scrolled": true
   },
   "outputs": [
    {
     "data": {
      "text/plain": [
       "ambient_temperature_(degF)             5\n",
       "calibration_(days)                     3\n",
       "relative_humidity_(%)                  5\n",
       "unwanted_substance_deposition_(0/1)    0\n",
       "dangerous_(0/1)                        0\n",
       "dtype: int64"
      ]
     },
     "execution_count": 86,
     "metadata": {},
     "output_type": "execute_result"
    }
   ],
   "source": [
    "# Checking for Null values\n",
    "df.isnull().sum()"
   ]
  },
  {
   "cell_type": "code",
   "execution_count": 97,
   "metadata": {},
   "outputs": [
    {
     "data": {
      "text/plain": [
       "<matplotlib.axes._subplots.AxesSubplot at 0xfe84148>"
      ]
     },
     "execution_count": 97,
     "metadata": {},
     "output_type": "execute_result"
    },
    {
     "data": {
      "image/png": "[encoded data removed]",
      "text/plain": [
       "<Figure size 432x288 with 2 Axes>"
      ]
     },
     "metadata": {
      "needs_background": "light"
     },
     "output_type": "display_data"
    }
   ],
   "source": [
    "# Visualising Null values in Heatmap\n",
    "sns.heatmap(df.isnull(),yticklabels=False,cbar=True,cmap='viridis')"
   ]
  },
  {
   "cell_type": "code",
   "execution_count": 102,
   "metadata": {},
   "outputs": [],
   "source": [
    "#Replacing Null values with mean\n",
    "df['ambient_temperature_(degF)'] = df['ambient_temperature_(degF)'].fillna(df['ambient_temperature_(degF)'].mean())\n",
    "df['ambient_temperature_(degF)']=df['ambient_temperature_(degF)'].astype(int)\n",
    "\n",
    "df['calibration_(days)'] = df['calibration_(days)'].fillna(df['calibration_(days)'].mean())\n",
    "df['calibration_(days)']=df['calibration_(days)'].astype(int)\n",
    "\n",
    "df['relative_humidity_(%)'] = df['relative_humidity_(%)'].fillna(df['relative_humidity_(%)'].mean())\n",
    "df['relative_humidity_(%)']=df['relative_humidity_(%)'].astype(int)"
   ]
  },
  {
   "cell_type": "code",
   "execution_count": 104,
   "metadata": {},
   "outputs": [
    {
     "data": {
      "text/plain": [
       "ambient_temperature_(degF)             0\n",
       "calibration_(days)                     0\n",
       "relative_humidity_(%)                  0\n",
       "unwanted_substance_deposition_(0/1)    0\n",
       "dangerous_(0/1)                        0\n",
       "dtype: int64"
      ]
     },
     "execution_count": 104,
     "metadata": {},
     "output_type": "execute_result"
    }
   ],
   "source": [
    "# Finally checking for any leftover Null values\n",
    "df.isnull().sum()"
   ]
  },
  {
   "cell_type": "code",
   "execution_count": 105,
   "metadata": {},
   "outputs": [
    {
     "data": {
      "text/html": [
       "<div>\n",
       "<style scoped>\n",
       "    .dataframe tbody tr th:only-of-type {\n",
       "        vertical-align: middle;\n",
       "    }\n",
       "\n",
       "    .dataframe tbody tr th {\n",
       "        vertical-align: top;\n",
       "    }\n",
       "\n",
       "    .dataframe thead th {\n",
       "        text-align: right;\n",
       "    }\n",
       "</style>\n",
       "<table border=\"1\" class=\"dataframe\">\n",
       "  <thead>\n",
       "    <tr style=\"text-align: right;\">\n",
       "      <th></th>\n",
       "      <th>ambient_temperature_(degF)</th>\n",
       "      <th>calibration_(days)</th>\n",
       "      <th>relative_humidity_(%)</th>\n",
       "      <th>unwanted_substance_deposition_(0/1)</th>\n",
       "      <th>dangerous_(0/1)</th>\n",
       "    </tr>\n",
       "  </thead>\n",
       "  <tbody>\n",
       "    <tr>\n",
       "      <th>ambient_temperature_(degF)</th>\n",
       "      <td>1.000000</td>\n",
       "      <td>-0.273096</td>\n",
       "      <td>-0.705667</td>\n",
       "      <td>-0.295044</td>\n",
       "      <td>0.818204</td>\n",
       "    </tr>\n",
       "    <tr>\n",
       "      <th>calibration_(days)</th>\n",
       "      <td>-0.273096</td>\n",
       "      <td>1.000000</td>\n",
       "      <td>0.321348</td>\n",
       "      <td>-0.023017</td>\n",
       "      <td>-0.476113</td>\n",
       "    </tr>\n",
       "    <tr>\n",
       "      <th>relative_humidity_(%)</th>\n",
       "      <td>-0.705667</td>\n",
       "      <td>0.321348</td>\n",
       "      <td>1.000000</td>\n",
       "      <td>0.244339</td>\n",
       "      <td>-0.776541</td>\n",
       "    </tr>\n",
       "    <tr>\n",
       "      <th>unwanted_substance_deposition_(0/1)</th>\n",
       "      <td>-0.295044</td>\n",
       "      <td>-0.023017</td>\n",
       "      <td>0.244339</td>\n",
       "      <td>1.000000</td>\n",
       "      <td>-0.309199</td>\n",
       "    </tr>\n",
       "    <tr>\n",
       "      <th>dangerous_(0/1)</th>\n",
       "      <td>0.818204</td>\n",
       "      <td>-0.476113</td>\n",
       "      <td>-0.776541</td>\n",
       "      <td>-0.309199</td>\n",
       "      <td>1.000000</td>\n",
       "    </tr>\n",
       "  </tbody>\n",
       "</table>\n",
       "</div>"
      ],
      "text/plain": [
       "                                     ambient_temperature_(degF)  \\\n",
       "ambient_temperature_(degF)                             1.000000   \n",
       "calibration_(days)                                    -0.273096   \n",
       "relative_humidity_(%)                                 -0.705667   \n",
       "unwanted_substance_deposition_(0/1)                   -0.295044   \n",
       "dangerous_(0/1)                                        0.818204   \n",
       "\n",
       "                                     calibration_(days)  \\\n",
       "ambient_temperature_(degF)                    -0.273096   \n",
       "calibration_(days)                             1.000000   \n",
       "relative_humidity_(%)                          0.321348   \n",
       "unwanted_substance_deposition_(0/1)           -0.023017   \n",
       "dangerous_(0/1)                               -0.476113   \n",
       "\n",
       "                                     relative_humidity_(%)  \\\n",
       "ambient_temperature_(degF)                       -0.705667   \n",
       "calibration_(days)                                0.321348   \n",
       "relative_humidity_(%)                             1.000000   \n",
       "unwanted_substance_deposition_(0/1)               0.244339   \n",
       "dangerous_(0/1)                                  -0.776541   \n",
       "\n",
       "                                     unwanted_substance_deposition_(0/1)  \\\n",
       "ambient_temperature_(degF)                                     -0.295044   \n",
       "calibration_(days)                                             -0.023017   \n",
       "relative_humidity_(%)                                           0.244339   \n",
       "unwanted_substance_deposition_(0/1)                             1.000000   \n",
       "dangerous_(0/1)                                                -0.309199   \n",
       "\n",
       "                                     dangerous_(0/1)  \n",
       "ambient_temperature_(degF)                  0.818204  \n",
       "calibration_(days)                         -0.476113  \n",
       "relative_humidity_(%)                      -0.776541  \n",
       "unwanted_substance_deposition_(0/1)        -0.309199  \n",
       "dangerous_(0/1)                             1.000000  "
      ]
     },
     "execution_count": 105,
     "metadata": {},
     "output_type": "execute_result"
    }
   ],
   "source": [
    "# Checking for correlation\n",
    "df.corr()"
   ]
  },
  {
   "cell_type": "code",
   "execution_count": 106,
   "metadata": {},
   "outputs": [
    {
     "data": {
      "text/plain": [
       "<matplotlib.axes._subplots.AxesSubplot at 0xfee3308>"
      ]
     },
     "execution_count": 106,
     "metadata": {},
     "output_type": "execute_result"
    },
    {
     "data": {
      "image/png": "[encoded data removed]",
      "text/plain": [
       "<Figure size 432x288 with 2 Axes>"
      ]
     },
     "metadata": {
      "needs_background": "light"
     },
     "output_type": "display_data"
    }
   ],
   "source": [
    "# Checking for correlation in heatmap\n",
    "sns.heatmap(df.corr(), annot=True)"
   ]
  },
  {
   "cell_type": "code",
   "execution_count": 107,
   "metadata": {},
   "outputs": [],
   "source": [
    "from sklearn.model_selection import train_test_split"
   ]
  },
  {
   "cell_type": "code",
   "execution_count": 108,
   "metadata": {},
   "outputs": [
    {
     "data": {
      "text/html": [
       "<div>\n",
       "<style scoped>\n",
       "    .dataframe tbody tr th:only-of-type {\n",
       "        vertical-align: middle;\n",
       "    }\n",
       "\n",
       "    .dataframe tbody tr th {\n",
       "        vertical-align: top;\n",
       "    }\n",
       "\n",
       "    .dataframe thead th {\n",
       "        text-align: right;\n",
       "    }\n",
       "</style>\n",
       "<table border=\"1\" class=\"dataframe\">\n",
       "  <thead>\n",
       "    <tr style=\"text-align: right;\">\n",
       "      <th></th>\n",
       "      <th>ambient_temperature_(degF)</th>\n",
       "      <th>calibration_(days)</th>\n",
       "      <th>relative_humidity_(%)</th>\n",
       "      <th>unwanted_substance_deposition_(0/1)</th>\n",
       "    </tr>\n",
       "  </thead>\n",
       "  <tbody>\n",
       "    <tr>\n",
       "      <th>0</th>\n",
       "      <td>15</td>\n",
       "      <td>190</td>\n",
       "      <td>95</td>\n",
       "      <td>1</td>\n",
       "    </tr>\n",
       "    <tr>\n",
       "      <th>1</th>\n",
       "      <td>10</td>\n",
       "      <td>143</td>\n",
       "      <td>89</td>\n",
       "      <td>1</td>\n",
       "    </tr>\n",
       "    <tr>\n",
       "      <th>2</th>\n",
       "      <td>21</td>\n",
       "      <td>97</td>\n",
       "      <td>80</td>\n",
       "      <td>0</td>\n",
       "    </tr>\n",
       "    <tr>\n",
       "      <th>3</th>\n",
       "      <td>19</td>\n",
       "      <td>180</td>\n",
       "      <td>86</td>\n",
       "      <td>0</td>\n",
       "    </tr>\n",
       "    <tr>\n",
       "      <th>4</th>\n",
       "      <td>27</td>\n",
       "      <td>198</td>\n",
       "      <td>79</td>\n",
       "      <td>0</td>\n",
       "    </tr>\n",
       "  </tbody>\n",
       "</table>\n",
       "</div>"
      ],
      "text/plain": [
       "   ambient_temperature_(degF)  calibration_(days)  relative_humidity_(%)  \\\n",
       "0                          15                 190                     95   \n",
       "1                          10                 143                     89   \n",
       "2                          21                  97                     80   \n",
       "3                          19                 180                     86   \n",
       "4                          27                 198                     79   \n",
       "\n",
       "   unwanted_substance_deposition_(0/1)  \n",
       "0                                    1  \n",
       "1                                    1  \n",
       "2                                    0  \n",
       "3                                    0  \n",
       "4                                    0  "
      ]
     },
     "execution_count": 108,
     "metadata": {},
     "output_type": "execute_result"
    }
   ],
   "source": [
    "x = df.drop('dangerous_(0/1)', axis=1)\n",
    "x.head()"
   ]
  },
  {
   "cell_type": "code",
   "execution_count": 109,
   "metadata": {},
   "outputs": [
    {
     "data": {
      "text/plain": [
       "0    0\n",
       "1    0\n",
       "2    1\n",
       "3    0\n",
       "4    1\n",
       "Name: dangerous_(0/1), dtype: uint8"
      ]
     },
     "execution_count": 109,
     "metadata": {},
     "output_type": "execute_result"
    }
   ],
   "source": [
    "y = df['dangerous_(0/1)']\n",
    "y.head()"
   ]
  },
  {
   "cell_type": "code",
   "execution_count": 147,
   "metadata": {},
   "outputs": [],
   "source": [
    "# Splitting the data into Train and Test\n",
    "x_train, x_test, y_train, y_test = train_test_split(x, y, test_size=0.3, random_state=4)"
   ]
  },
  {
   "cell_type": "code",
   "execution_count": 148,
   "metadata": {},
   "outputs": [],
   "source": [
    "from sklearn.metrics import confusion_matrix, accuracy_score"
   ]
  },
  {
   "cell_type": "code",
   "execution_count": 173,
   "metadata": {},
   "outputs": [],
   "source": [
    "from sklearn.model_selection import cross_val_score\n",
    "from sklearn.tree import DecisionTreeClassifier"
   ]
  },
  {
   "cell_type": "code",
   "execution_count": 155,
   "metadata": {},
   "outputs": [],
   "source": [
    "# Assigning the Algorithm to an object\n",
    "dt = DecisionTreeClassifier()"
   ]
  },
  {
   "cell_type": "code",
   "execution_count": 151,
   "metadata": {},
   "outputs": [
    {
     "data": {
      "text/plain": [
       "DecisionTreeClassifier(ccp_alpha=0.0, class_weight=None, criterion='gini',\n",
       "                       max_depth=None, max_features=None, max_leaf_nodes=None,\n",
       "                       min_impurity_decrease=0.0, min_impurity_split=None,\n",
       "                       min_samples_leaf=1, min_samples_split=2,\n",
       "                       min_weight_fraction_leaf=0.0, presort='deprecated',\n",
       "                       random_state=None, splitter='best')"
      ]
     },
     "execution_count": 151,
     "metadata": {},
     "output_type": "execute_result"
    }
   ],
   "source": [
    "#Fitting our training data into the Algorithm\n",
    "dt.fit(x_train, y_train)"
   ]
  },
  {
   "cell_type": "code",
   "execution_count": 152,
   "metadata": {},
   "outputs": [],
   "source": [
    "# Predicting from our test data\n",
    "y.pred = dt.predict(x_test)"
   ]
  },
  {
   "cell_type": "code",
   "execution_count": 153,
   "metadata": {},
   "outputs": [
    {
     "data": {
      "text/plain": [
       "array([[8, 1],\n",
       "       [0, 6]], dtype=int64)"
      ]
     },
     "execution_count": 153,
     "metadata": {},
     "output_type": "execute_result"
    }
   ],
   "source": [
    "confusion_matrix(y_test, y.pred)"
   ]
  },
  {
   "cell_type": "code",
   "execution_count": 154,
   "metadata": {},
   "outputs": [
    {
     "data": {
      "text/plain": [
       "0.9333333333333333"
      ]
     },
     "execution_count": 154,
     "metadata": {},
     "output_type": "execute_result"
    }
   ],
   "source": [
    "#Checking the accuracy score\n",
    "accuracy_score(y_test, y.pred)"
   ]
  },
  {
   "cell_type": "markdown",
   "metadata": {},
   "source": [
    "Conclusion: We have acheived a good level of accuracy for the model with the help of Decision Tree Alogrithm. "
   ]
  }
 ],
 "metadata": {
  "kernelspec": {
   "display_name": "Python 3",
   "language": "python",
   "name": "python3"
  },
  "language_info": {
   "codemirror_mode": {
    "name": "ipython",
    "version": 3
   },
   "file_extension": ".py",
   "mimetype": "text/x-python",
   "name": "python",
   "nbconvert_exporter": "python",
   "pygments_lexer": "ipython3",
   "version": "3.7.6"
  }
 },
 "nbformat": 4,
 "nbformat_minor": 4
}
