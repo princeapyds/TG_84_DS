{
 "cells": [
  {
   "cell_type": "code",
   "execution_count": 1,
   "metadata": {},
   "outputs": [],
   "source": [
    "import numpy as np\n",
    "import pandas as pd\n",
    "import seaborn as sns\n",
    "import matplotlib.pyplot as plt"
   ]
  },
  {
   "cell_type": "code",
   "execution_count": 2,
   "metadata": {},
   "outputs": [],
   "source": [
    "df = pd.read_excel('Use case-2-False Alarm Detectio - Himanshu Raul.xlsx')"
   ]
  },
  {
   "cell_type": "code",
   "execution_count": 3,
   "metadata": {},
   "outputs": [
    {
     "data": {
      "text/html": [
       "<div>\n",
       "<style scoped>\n",
       "    .dataframe tbody tr th:only-of-type {\n",
       "        vertical-align: middle;\n",
       "    }\n",
       "\n",
       "    .dataframe tbody tr th {\n",
       "        vertical-align: top;\n",
       "    }\n",
       "\n",
       "    .dataframe thead th {\n",
       "        text-align: right;\n",
       "    }\n",
       "</style>\n",
       "<table border=\"1\" class=\"dataframe\">\n",
       "  <thead>\n",
       "    <tr style=\"text-align: right;\">\n",
       "      <th></th>\n",
       "      <th>Ambient temperature ('F)</th>\n",
       "      <th>Calibration (days)</th>\n",
       "      <th>Unwanted substance deposition (0/1)</th>\n",
       "      <th>Relative humidity (%)</th>\n",
       "      <th>Dangerous (0/1)</th>\n",
       "    </tr>\n",
       "  </thead>\n",
       "  <tbody>\n",
       "    <tr>\n",
       "      <th>0</th>\n",
       "      <td>15</td>\n",
       "      <td>190</td>\n",
       "      <td>1</td>\n",
       "      <td>95</td>\n",
       "      <td>0</td>\n",
       "    </tr>\n",
       "    <tr>\n",
       "      <th>1</th>\n",
       "      <td>10</td>\n",
       "      <td>143</td>\n",
       "      <td>1</td>\n",
       "      <td>89</td>\n",
       "      <td>0</td>\n",
       "    </tr>\n",
       "    <tr>\n",
       "      <th>2</th>\n",
       "      <td>21</td>\n",
       "      <td>97</td>\n",
       "      <td>0</td>\n",
       "      <td>80</td>\n",
       "      <td>1</td>\n",
       "    </tr>\n",
       "    <tr>\n",
       "      <th>3</th>\n",
       "      <td>11</td>\n",
       "      <td>180</td>\n",
       "      <td>0</td>\n",
       "      <td>97</td>\n",
       "      <td>0</td>\n",
       "    </tr>\n",
       "    <tr>\n",
       "      <th>4</th>\n",
       "      <td>27</td>\n",
       "      <td>198</td>\n",
       "      <td>0</td>\n",
       "      <td>79</td>\n",
       "      <td>1</td>\n",
       "    </tr>\n",
       "  </tbody>\n",
       "</table>\n",
       "</div>"
      ],
      "text/plain": [
       "   Ambient temperature ('F)    Calibration (days)   \\\n",
       "0                          15                  190   \n",
       "1                          10                  143   \n",
       "2                          21                   97   \n",
       "3                          11                  180   \n",
       "4                          27                  198   \n",
       "\n",
       "   Unwanted substance deposition (0/1)  Relative humidity (%)  Dangerous (0/1)  \n",
       "0                                    1                     95                0  \n",
       "1                                    1                     89                0  \n",
       "2                                    0                     80                1  \n",
       "3                                    0                     97                0  \n",
       "4                                    0                     79                1  "
      ]
     },
     "execution_count": 3,
     "metadata": {},
     "output_type": "execute_result"
    }
   ],
   "source": [
    "df.head()"
   ]
  },
  {
   "cell_type": "code",
   "execution_count": 4,
   "metadata": {},
   "outputs": [
    {
     "name": "stdout",
     "output_type": "stream",
     "text": [
      "<class 'pandas.core.frame.DataFrame'>\n",
      "RangeIndex: 50 entries, 0 to 49\n",
      "Data columns (total 5 columns):\n",
      " #   Column                               Non-Null Count  Dtype\n",
      "---  ------                               --------------  -----\n",
      " 0   Ambient temperature ('F)             50 non-null     int64\n",
      " 1   Calibration (days)                   50 non-null     int64\n",
      " 2   Unwanted substance deposition (0/1)  50 non-null     int64\n",
      " 3   Relative humidity (%)                50 non-null     int64\n",
      " 4   Dangerous (0/1)                      50 non-null     int64\n",
      "dtypes: int64(5)\n",
      "memory usage: 2.1 KB\n"
     ]
    }
   ],
   "source": [
    "df.info()"
   ]
  },
  {
   "cell_type": "code",
   "execution_count": 5,
   "metadata": {},
   "outputs": [
    {
     "data": {
      "text/html": [
       "<div>\n",
       "<style scoped>\n",
       "    .dataframe tbody tr th:only-of-type {\n",
       "        vertical-align: middle;\n",
       "    }\n",
       "\n",
       "    .dataframe tbody tr th {\n",
       "        vertical-align: top;\n",
       "    }\n",
       "\n",
       "    .dataframe thead th {\n",
       "        text-align: right;\n",
       "    }\n",
       "</style>\n",
       "<table border=\"1\" class=\"dataframe\">\n",
       "  <thead>\n",
       "    <tr style=\"text-align: right;\">\n",
       "      <th></th>\n",
       "      <th>Ambient temperature ('F)</th>\n",
       "      <th>Calibration (days)</th>\n",
       "      <th>Unwanted substance deposition (0/1)</th>\n",
       "      <th>Relative humidity (%)</th>\n",
       "      <th>Dangerous (0/1)</th>\n",
       "    </tr>\n",
       "  </thead>\n",
       "  <tbody>\n",
       "    <tr>\n",
       "      <th>Ambient temperature ('F)</th>\n",
       "      <td>1.000000</td>\n",
       "      <td>-0.338009</td>\n",
       "      <td>-0.255002</td>\n",
       "      <td>-0.761876</td>\n",
       "      <td>0.864212</td>\n",
       "    </tr>\n",
       "    <tr>\n",
       "      <th>Calibration (days)</th>\n",
       "      <td>-0.338009</td>\n",
       "      <td>1.000000</td>\n",
       "      <td>0.001583</td>\n",
       "      <td>0.369702</td>\n",
       "      <td>-0.487367</td>\n",
       "    </tr>\n",
       "    <tr>\n",
       "      <th>Unwanted substance deposition (0/1)</th>\n",
       "      <td>-0.255002</td>\n",
       "      <td>0.001583</td>\n",
       "      <td>1.000000</td>\n",
       "      <td>0.259399</td>\n",
       "      <td>-0.309199</td>\n",
       "    </tr>\n",
       "    <tr>\n",
       "      <th>Relative humidity (%)</th>\n",
       "      <td>-0.761876</td>\n",
       "      <td>0.369702</td>\n",
       "      <td>0.259399</td>\n",
       "      <td>1.000000</td>\n",
       "      <td>-0.829380</td>\n",
       "    </tr>\n",
       "    <tr>\n",
       "      <th>Dangerous (0/1)</th>\n",
       "      <td>0.864212</td>\n",
       "      <td>-0.487367</td>\n",
       "      <td>-0.309199</td>\n",
       "      <td>-0.829380</td>\n",
       "      <td>1.000000</td>\n",
       "    </tr>\n",
       "  </tbody>\n",
       "</table>\n",
       "</div>"
      ],
      "text/plain": [
       "                                     Ambient temperature ('F)    \\\n",
       "Ambient temperature ('F)                               1.000000   \n",
       "Calibration (days)                                    -0.338009   \n",
       "Unwanted substance deposition (0/1)                   -0.255002   \n",
       "Relative humidity (%)                                 -0.761876   \n",
       "Dangerous (0/1)                                        0.864212   \n",
       "\n",
       "                                     Calibration (days)   \\\n",
       "Ambient temperature ('F)                       -0.338009   \n",
       "Calibration (days)                              1.000000   \n",
       "Unwanted substance deposition (0/1)             0.001583   \n",
       "Relative humidity (%)                           0.369702   \n",
       "Dangerous (0/1)                                -0.487367   \n",
       "\n",
       "                                     Unwanted substance deposition (0/1)  \\\n",
       "Ambient temperature ('F)                                       -0.255002   \n",
       "Calibration (days)                                              0.001583   \n",
       "Unwanted substance deposition (0/1)                             1.000000   \n",
       "Relative humidity (%)                                           0.259399   \n",
       "Dangerous (0/1)                                                -0.309199   \n",
       "\n",
       "                                     Relative humidity (%)  Dangerous (0/1)  \n",
       "Ambient temperature ('F)                         -0.761876         0.864212  \n",
       "Calibration (days)                                0.369702        -0.487367  \n",
       "Unwanted substance deposition (0/1)               0.259399        -0.309199  \n",
       "Relative humidity (%)                             1.000000        -0.829380  \n",
       "Dangerous (0/1)                                  -0.829380         1.000000  "
      ]
     },
     "execution_count": 5,
     "metadata": {},
     "output_type": "execute_result"
    }
   ],
   "source": [
    "df.corr()"
   ]
  },
  {
   "cell_type": "code",
   "execution_count": 6,
   "metadata": {},
   "outputs": [
    {
     "data": {
      "text/plain": [
       "<matplotlib.axes._subplots.AxesSubplot at 0xa0be388>"
      ]
     },
     "execution_count": 6,
     "metadata": {},
     "output_type": "execute_result"
    },
    {
     "data": {
      "image/png": "[encoded data removed]",
      "text/plain": [
       "<Figure size 432x288 with 2 Axes>"
      ]
     },
     "metadata": {
      "needs_background": "light"
     },
     "output_type": "display_data"
    }
   ],
   "source": [
    "sns.heatmap(df.corr(), annot=True)"
   ]
  },
  {
   "cell_type": "code",
   "execution_count": 7,
   "metadata": {},
   "outputs": [],
   "source": [
    "from sklearn.model_selection import train_test_split"
   ]
  },
  {
   "cell_type": "code",
   "execution_count": 8,
   "metadata": {},
   "outputs": [
    {
     "data": {
      "text/html": [
       "<div>\n",
       "<style scoped>\n",
       "    .dataframe tbody tr th:only-of-type {\n",
       "        vertical-align: middle;\n",
       "    }\n",
       "\n",
       "    .dataframe tbody tr th {\n",
       "        vertical-align: top;\n",
       "    }\n",
       "\n",
       "    .dataframe thead th {\n",
       "        text-align: right;\n",
       "    }\n",
       "</style>\n",
       "<table border=\"1\" class=\"dataframe\">\n",
       "  <thead>\n",
       "    <tr style=\"text-align: right;\">\n",
       "      <th></th>\n",
       "      <th>Ambient temperature ('F)</th>\n",
       "      <th>Calibration (days)</th>\n",
       "      <th>Unwanted substance deposition (0/1)</th>\n",
       "      <th>Relative humidity (%)</th>\n",
       "    </tr>\n",
       "  </thead>\n",
       "  <tbody>\n",
       "    <tr>\n",
       "      <th>0</th>\n",
       "      <td>15</td>\n",
       "      <td>190</td>\n",
       "      <td>1</td>\n",
       "      <td>95</td>\n",
       "    </tr>\n",
       "    <tr>\n",
       "      <th>1</th>\n",
       "      <td>10</td>\n",
       "      <td>143</td>\n",
       "      <td>1</td>\n",
       "      <td>89</td>\n",
       "    </tr>\n",
       "    <tr>\n",
       "      <th>2</th>\n",
       "      <td>21</td>\n",
       "      <td>97</td>\n",
       "      <td>0</td>\n",
       "      <td>80</td>\n",
       "    </tr>\n",
       "    <tr>\n",
       "      <th>3</th>\n",
       "      <td>11</td>\n",
       "      <td>180</td>\n",
       "      <td>0</td>\n",
       "      <td>97</td>\n",
       "    </tr>\n",
       "    <tr>\n",
       "      <th>4</th>\n",
       "      <td>27</td>\n",
       "      <td>198</td>\n",
       "      <td>0</td>\n",
       "      <td>79</td>\n",
       "    </tr>\n",
       "  </tbody>\n",
       "</table>\n",
       "</div>"
      ],
      "text/plain": [
       "   Ambient temperature ('F)    Calibration (days)   \\\n",
       "0                          15                  190   \n",
       "1                          10                  143   \n",
       "2                          21                   97   \n",
       "3                          11                  180   \n",
       "4                          27                  198   \n",
       "\n",
       "   Unwanted substance deposition (0/1)  Relative humidity (%)  \n",
       "0                                    1                     95  \n",
       "1                                    1                     89  \n",
       "2                                    0                     80  \n",
       "3                                    0                     97  \n",
       "4                                    0                     79  "
      ]
     },
     "execution_count": 8,
     "metadata": {},
     "output_type": "execute_result"
    }
   ],
   "source": [
    "x = df.drop('Dangerous (0/1)', axis=1)\n",
    "x.head()"
   ]
  },
  {
   "cell_type": "code",
   "execution_count": 10,
   "metadata": {},
   "outputs": [
    {
     "data": {
      "text/plain": [
       "0    0\n",
       "1    0\n",
       "2    1\n",
       "3    0\n",
       "4    1\n",
       "Name: Dangerous (0/1), dtype: int64"
      ]
     },
     "execution_count": 10,
     "metadata": {},
     "output_type": "execute_result"
    }
   ],
   "source": [
    "y = df['Dangerous (0/1)']\n",
    "y.head()"
   ]
  },
  {
   "cell_type": "code",
   "execution_count": 40,
   "metadata": {},
   "outputs": [],
   "source": [
    "x_train, x_test, y_train, y_test = train_test_split(x, y, test_size=0.3)"
   ]
  },
  {
   "cell_type": "code",
   "execution_count": 45,
   "metadata": {},
   "outputs": [],
   "source": [
    "from sklearn.metrics import confusion_matrix, accuracy_score"
   ]
  },
  {
   "cell_type": "code",
   "execution_count": 74,
   "metadata": {},
   "outputs": [],
   "source": [
    "from sklearn.model_selection import cross_val_score\n",
    "from sklearn.tree import DecisionTreeClassifier"
   ]
  },
  {
   "cell_type": "code",
   "execution_count": 49,
   "metadata": {},
   "outputs": [],
   "source": [
    "dt = DecisionTreeClassifier()"
   ]
  },
  {
   "cell_type": "code",
   "execution_count": 50,
   "metadata": {},
   "outputs": [
    {
     "data": {
      "text/plain": [
       "DecisionTreeClassifier(ccp_alpha=0.0, class_weight=None, criterion='gini',\n",
       "                       max_depth=None, max_features=None, max_leaf_nodes=None,\n",
       "                       min_impurity_decrease=0.0, min_impurity_split=None,\n",
       "                       min_samples_leaf=1, min_samples_split=2,\n",
       "                       min_weight_fraction_leaf=0.0, presort='deprecated',\n",
       "                       random_state=None, splitter='best')"
      ]
     },
     "execution_count": 50,
     "metadata": {},
     "output_type": "execute_result"
    }
   ],
   "source": [
    "dt.fit(x_train, y_train)"
   ]
  },
  {
   "cell_type": "code",
   "execution_count": 51,
   "metadata": {},
   "outputs": [],
   "source": [
    "y.pred = dt.predict(x_test)"
   ]
  },
  {
   "cell_type": "code",
   "execution_count": 52,
   "metadata": {},
   "outputs": [
    {
     "data": {
      "text/plain": [
       "array([[8, 0],\n",
       "       [1, 6]], dtype=int64)"
      ]
     },
     "execution_count": 52,
     "metadata": {},
     "output_type": "execute_result"
    }
   ],
   "source": [
    "confusion_matrix(y_test, y.pred)"
   ]
  },
  {
   "cell_type": "code",
   "execution_count": 53,
   "metadata": {},
   "outputs": [
    {
     "data": {
      "text/plain": [
       "0.9333333333333333"
      ]
     },
     "execution_count": 53,
     "metadata": {},
     "output_type": "execute_result"
    }
   ],
   "source": [
    "accuracy_score(y_test, y.pred)"
   ]
  },
  {
   "cell_type": "code",
   "execution_count": 54,
   "metadata": {},
   "outputs": [
    {
     "data": {
      "text/plain": [
       "0.9200000000000002"
      ]
     },
     "execution_count": 54,
     "metadata": {},
     "output_type": "execute_result"
    }
   ],
   "source": [
    "cross_val_score(dt,x,y,cv=10,scoring='accuracy').mean()"
   ]
  },
  {
   "cell_type": "code",
   "execution_count": null,
   "metadata": {},
   "outputs": [],
   "source": []
  }
 ],
 "metadata": {
  "kernelspec": {
   "display_name": "Python 3",
   "language": "python",
   "name": "python3"
  },
  "language_info": {
   "codemirror_mode": {
    "name": "ipython",
    "version": 3
   },
   "file_extension": ".py",
   "mimetype": "text/x-python",
   "name": "python",
   "nbconvert_exporter": "python",
   "pygments_lexer": "ipython3",
   "version": "3.7.6"
  }
 },
 "nbformat": 4,
 "nbformat_minor": 4
}
